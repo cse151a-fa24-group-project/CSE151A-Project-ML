{
 "cells": [
  {
   "cell_type": "code",
   "execution_count": 3,
   "id": "136efc02-17ae-4f88-8a98-0dd7f028d704",
   "metadata": {},
   "outputs": [
    {
     "name": "stdout",
     "output_type": "stream",
     "text": [
      "Extracted 2762 frames to extracted_frames\n"
     ]
    }
   ],
   "source": [
    "import cv2\n",
    "import os\n",
    "\n",
    "def extract_frames(video_path, output_folder, frame_rate=1):\n",
    "    # Ensure the output directory exists\n",
    "    os.makedirs(output_folder, exist_ok=True)\n",
    "\n",
    "    # Open the video file\n",
    "    cap = cv2.VideoCapture(video_path)\n",
    "    if not cap.isOpened():\n",
    "        print(f\"Error opening video file: {video_path}\")\n",
    "        return\n",
    "\n",
    "    # Get video properties\n",
    "    fps = cap.get(cv2.CAP_PROP_FPS)\n",
    "    interval = int(fps / frame_rate)  # Capture every 'interval' frame\n",
    "\n",
    "    frame_count = 0\n",
    "    saved_count = 0\n",
    "\n",
    "    while cap.isOpened():\n",
    "        ret, frame = cap.read()\n",
    "        if not ret:\n",
    "            break\n",
    "\n",
    "        # Save frames at the specified interval\n",
    "        if frame_count % interval == 0:\n",
    "            frame_filename = os.path.join(output_folder, f\"frame_{saved_count:04d}.jpg\")\n",
    "            cv2.imwrite(frame_filename, frame)\n",
    "            saved_count += 1\n",
    "\n",
    "        frame_count += 1\n",
    "\n",
    "    cap.release()\n",
    "    print(f\"Extracted {saved_count} frames to {output_folder}\")\n",
    "\n",
    "# Usage\n",
    "video_path = 's5e4.mp4'\n",
    "output_folder = 'extracted_frames'\n",
    "extract_frames(video_path, output_folder, frame_rate=2)\n"
   ]
  },
  {
   "cell_type": "code",
   "execution_count": 4,
   "id": "534b154e-b969-492a-b843-5fa58b106a5b",
   "metadata": {},
   "outputs": [
    {
     "name": "stdout",
     "output_type": "stream",
     "text": [
      "Frames from 'extracted_frames' have been zipped into 'extracted_frames.zip'\n"
     ]
    }
   ],
   "source": [
    "import zipfile\n",
    "import os\n",
    "\n",
    "def zip_extracted_frames(folder_path, zip_filename=\"extracted_frames.zip\"):\n",
    "    # Create a Zip file\n",
    "    with zipfile.ZipFile(zip_filename, 'w') as zipf:\n",
    "        # Loop through all files in the folder\n",
    "        for root, _, files in os.walk(folder_path):\n",
    "            for file in files:\n",
    "                file_path = os.path.join(root, file)\n",
    "                zipf.write(file_path, os.path.relpath(file_path, folder_path))\n",
    "    \n",
    "    print(f\"Frames from '{folder_path}' have been zipped into '{zip_filename}'\")\n",
    "\n",
    "# Usage\n",
    "folder_path = 'extracted_frames'  # Folder with extracted frames\n",
    "zip_filename = 'extracted_frames.zip'\n",
    "zip_extracted_frames(folder_path, zip_filename)"
   ]
  }
 ],
 "metadata": {
  "kernelspec": {
   "display_name": "Python 3 (ipykernel)",
   "language": "python",
   "name": "python3"
  },
  "language_info": {
   "codemirror_mode": {
    "name": "ipython",
    "version": 3
   },
   "file_extension": ".py",
   "mimetype": "text/x-python",
   "name": "python",
   "nbconvert_exporter": "python",
   "pygments_lexer": "ipython3",
   "version": "3.8.10"
  }
 },
 "nbformat": 4,
 "nbformat_minor": 5
}
