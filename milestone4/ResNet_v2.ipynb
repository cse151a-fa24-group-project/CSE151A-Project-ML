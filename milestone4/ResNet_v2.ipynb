{
 "cells": [
  {
   "cell_type": "code",
   "execution_count": null,
   "metadata": {
    "id": "xoKBnuFRAoVs"
   },
   "outputs": [],
   "source": [
    "import matplotlib.pyplot as plt\n",
    "import tensorflow as tf\n",
    "import pandas as pd\n",
    "import numpy as np\n",
    "\n",
    "import warnings\n",
    "warnings.filterwarnings('ignore')\n",
    "\n",
    "from keras import layers\n",
    "from tensorflow.keras.models import Model, Sequential\n",
    "from tensorflow.keras.layers import Dense, Conv2D, MaxPooling2D, GlobalAveragePooling2D, Flatten, Dropout, Activation, BatchNormalization\n",
    "from tensorflow.keras.utils import image_dataset_from_directory\n",
    "from tensorflow.keras.preprocessing.image import ImageDataGenerator, load_img\n",
    "from tensorflow.keras.preprocessing import image_dataset_from_directory\n",
    "\n",
    "import os\n",
    "import zipfile\n",
    "import gdown\n",
    "import matplotlib.image as mpimg"
   ]
  },
  {
   "cell_type": "code",
   "execution_count": null,
   "metadata": {
    "id": "at6FmtCbCJcH"
   },
   "outputs": [],
   "source": [
    "image_extensions = {'.jpg', '.jpeg', '.png'}"
   ]
  },
  {
   "cell_type": "code",
   "execution_count": null,
   "metadata": {
    "colab": {
     "base_uri": "https://localhost:8080/"
    },
    "id": "nHq7ztKICTJv",
    "outputId": "01df417a-428c-416d-95d0-ed4248d72ae8"
   },
   "outputs": [],
   "source": [
    "working_dir = os.getcwd()\n",
    "base_dir = os.path.join(working_dir, \"All_Data\")\n",
    "classes = os.listdir(base_dir)\n",
    "classes"
   ]
  },
  {
   "cell_type": "code",
   "execution_count": null,
   "metadata": {
    "colab": {
     "base_uri": "https://localhost:8080/",
     "height": 406
    },
    "id": "DWPxynauCks7",
    "outputId": "565d668c-4ad6-44b2-bf45-bd913f9a4f52"
   },
   "outputs": [],
   "source": [
    "fig = plt.gcf()\n",
    "\n",
    "with_dir = os.path.join('All_Data/With_Peter_All')\n",
    "without_dir = os.path.join('All_Data/Without_Peter_All')\n",
    "with_names = os.listdir(with_dir)\n",
    "without_names = os.listdir(without_dir)\n",
    "\n",
    "pic_index = 100\n",
    "\n",
    "with_images = [os.path.join(with_dir, fname)\n",
    "              for fname in with_dir[pic_index-16:pic_index]]\n",
    "without_images = [os.path.join(without_dir, fname)\n",
    "              for fname in without_names[pic_index-16:pic_index]]\n",
    "\n",
    "for i, img_path in enumerate(with_images + without_images):\n",
    "    sp = plt.subplot(4, 4, i+1)\n",
    "    sp.axis('Off')\n",
    "\n",
    "    img = mpimg.imread(img_path)\n",
    "    plt.imshow(img)\n",
    "\n",
    "plt.show()"
   ]
  },
  {
   "cell_type": "code",
   "execution_count": null,
   "metadata": {
    "colab": {
     "base_uri": "https://localhost:8080/"
    },
    "id": "p4cedYoyFAHp",
    "outputId": "0b06aadf-628e-4326-9b9a-c59da16486e4"
   },
   "outputs": [],
   "source": [
    "# Create datasets\n",
    "train_datagen = image_dataset_from_directory(base_dir,\n",
    "                                                  image_size=(320,240),\n",
    "                                                  subset='training',\n",
    "                                                  seed = 1,\n",
    "                                                  validation_split=0.1,\n",
    "                                                  batch_size= 32)\n",
    "test_datagen = image_dataset_from_directory(base_dir,\n",
    "                                                  image_size=(320,240),\n",
    "                                                  subset='validation',\n",
    "                                                  seed = 1,\n",
    "                                                  validation_split=0.1,\n",
    "                                                  batch_size= 32)"
   ]
  },
  {
   "cell_type": "code",
   "execution_count": null,
   "metadata": {},
   "outputs": [],
   "source": [
    "from tensorflow.keras.applications import ResNet50\n",
    "from tensorflow.keras.applications.resnet50 import preprocess_input\n",
    "\n",
    "def preprocess_dataset(image, label):\n",
    "    # Apply ResNet50 preprocessing\n",
    "    image = preprocess_input(image)\n",
    "    return image, label\n",
    "\n",
    "# Preprocess datasets using the custom function\n",
    "train_datagen = train_datagen.map(preprocess_dataset)\n",
    "test_datagen = test_datagen.map(preprocess_dataset)"
   ]
  },
  {
   "cell_type": "code",
   "execution_count": null,
   "metadata": {
    "id": "JqMgN3ztFbBq"
   },
   "outputs": [],
   "source": [
    "base_model = ResNet50(weights='imagenet', include_top=False, input_shape=(320, 240, 3))\n",
    "base_model.trainable = False\n",
    "\n",
    "model = tf.keras.models.Sequential([\n",
    "    base_model,\n",
    "    GlobalAveragePooling2D(),\n",
    "    Dense(256, activation='relu'),\n",
    "    Dropout(0.5),\n",
    "    BatchNormalization(),\n",
    "    Dense(1, activation='sigmoid')\n",
    "])"
   ]
  },
  {
   "cell_type": "code",
   "execution_count": null,
   "metadata": {
    "colab": {
     "base_uri": "https://localhost:8080/",
     "height": 776
    },
    "id": "x7UZ-IbwFgpy",
    "outputId": "bfaa2c7e-f4b9-4626-f4c3-f637bdfef9d5"
   },
   "outputs": [],
   "source": [
    "model.summary()\n"
   ]
  },
  {
   "cell_type": "code",
   "execution_count": null,
   "metadata": {
    "id": "pktuTiu4FizN"
   },
   "outputs": [],
   "source": [
    "model.compile(\n",
    "    loss='binary_crossentropy',\n",
    "    optimizer='adam',\n",
    "    metrics=['accuracy']\n",
    ")"
   ]
  },
  {
   "cell_type": "code",
   "execution_count": null,
   "metadata": {
    "colab": {
     "base_uri": "https://localhost:8080/"
    },
    "id": "qqH8BfIJFk6T",
    "outputId": "1e3cfda7-db88-47e4-ad24-83e50d38011a"
   },
   "outputs": [],
   "source": [
    "history = model.fit(train_datagen,\n",
    "          epochs=10,\n",
    "          validation_data=test_datagen)"
   ]
  },
  {
   "cell_type": "code",
   "execution_count": null,
   "metadata": {
    "colab": {
     "base_uri": "https://localhost:8080/",
     "height": 198
    },
    "id": "_BOwn2wlF9lY",
    "outputId": "8344cc63-fd52-4144-c2dc-d1ad4c81d354"
   },
   "outputs": [],
   "source": [
    "history_df = pd.DataFrame(history.history)\n",
    "history_df.loc[:, ['loss', 'val_loss']].plot()\n",
    "history_df.loc[:, ['accuracy', 'val_accuracy']].plot()\n",
    "plt.show()"
   ]
  },
  {
   "cell_type": "code",
   "execution_count": null,
   "metadata": {
    "colab": {
     "base_uri": "https://localhost:8080/",
     "height": 341
    },
    "id": "HFAEL8b9GAKv",
    "outputId": "f3a4cef3-54c9-4400-c4d2-699cde9e50a9"
   },
   "outputs": [],
   "source": [
    "from tensorflow.keras.preprocessing.image import load_img, img_to_array\n",
    "\n",
    "test_image1_path = os.path.join(working_dir, \"model_test/S1E05_500.jpg\")\n",
    "test_image2_path = os.path.join(working_dir, \"model_test/S1E05_1000.jpg\")\n",
    "test_image3_path = os.path.join(working_dir, \"model_test/S1E05_1500.jpg\")\n",
    "test_image4_path = os.path.join(working_dir, \"model_test/S1E05_2000.jpg\")\n",
    "test_image5_path = os.path.join(with_dir, \"S1E05_105.jpg\")\n",
    "test_image6_path = os.path.join(without_dir, \"S1E05_7.jpg\")\n",
    "\n",
    "image_paths = [test_image1_path, \n",
    "               test_image2_path, \n",
    "               test_image3_path, \n",
    "               test_image4_path, \n",
    "               test_image5_path, \n",
    "               test_image6_path]\n",
    "#Input image\n",
    "for i in range(len(image_paths)):\n",
    "    test_image = load_img(image_paths[i],target_size=(320,240))\n",
    "    \n",
    "    #For show image\n",
    "    plt.imshow(test_image)\n",
    "    test_image = img_to_array(test_image)\n",
    "    test_image = np.expand_dims(test_image,axis=0)\n",
    "    \n",
    "    # Result array\n",
    "    result = model.predict(test_image)\n",
    "    \n",
    "    #Mapping result array with the main name list\n",
    "    i=0\n",
    "    if(result<=0.5):\n",
    "      print(\"With Peter\")\n",
    "    else:\n",
    "      print(\"Without Peter\")"
   ]
  },
  {
   "cell_type": "code",
   "execution_count": null,
   "metadata": {},
   "outputs": [],
   "source": [
    "test_image = load_img(test_image1_path,target_size=(320,240))\n",
    "\n",
    "#For show image\n",
    "plt.imshow(test_image)\n",
    "test_image = img_to_array(test_image)\n",
    "test_image = np.expand_dims(test_image,axis=0)\n",
    "\n",
    "# Result array\n",
    "result = model.predict(test_image)\n",
    "\n",
    "#Mapping result array with the main name list\n",
    "i=0\n",
    "if(result<=0.5):\n",
    "    print(\"With Peter\")\n",
    "else:\n",
    "    print(\"Without Peter\")"
   ]
  },
  {
   "cell_type": "code",
   "execution_count": null,
   "metadata": {},
   "outputs": [],
   "source": [
    "test_image = load_img(test_image2_path,target_size=(320,240))\n",
    "\n",
    "#For show image\n",
    "plt.imshow(test_image)\n",
    "test_image = img_to_array(test_image)\n",
    "test_image = np.expand_dims(test_image,axis=0)\n",
    "\n",
    "# Result array\n",
    "result = model.predict(test_image)\n",
    "\n",
    "#Mapping result array with the main name list\n",
    "i=0\n",
    "if(result<=0.5):\n",
    "    print(\"With Peter\")\n",
    "else:\n",
    "    print(\"Without Peter\")"
   ]
  },
  {
   "cell_type": "code",
   "execution_count": null,
   "metadata": {},
   "outputs": [],
   "source": [
    "test_image = load_img(test_image3_path,target_size=(320,240))\n",
    "\n",
    "#For show image\n",
    "plt.imshow(test_image)\n",
    "test_image = img_to_array(test_image)\n",
    "test_image = np.expand_dims(test_image,axis=0)\n",
    "\n",
    "# Result array\n",
    "result = model.predict(test_image)\n",
    "\n",
    "#Mapping result array with the main name list\n",
    "i=0\n",
    "if(result<=0.5):\n",
    "    print(\"With Peter\")\n",
    "else:\n",
    "    print(\"Without Peter\")"
   ]
  },
  {
   "cell_type": "code",
   "execution_count": null,
   "metadata": {},
   "outputs": [],
   "source": [
    "test_image = load_img(test_image4_path,target_size=(320,240))\n",
    "\n",
    "#For show image\n",
    "plt.imshow(test_image)\n",
    "test_image = img_to_array(test_image)\n",
    "test_image = np.expand_dims(test_image,axis=0)\n",
    "\n",
    "# Result array\n",
    "result = model.predict(test_image)\n",
    "\n",
    "#Mapping result array with the main name list\n",
    "i=0\n",
    "if(result<=0.5):\n",
    "    print(\"With Peter\")\n",
    "else:\n",
    "    print(\"Without Peter\")"
   ]
  },
  {
   "cell_type": "code",
   "execution_count": null,
   "metadata": {},
   "outputs": [],
   "source": [
    "test_image = load_img(test_image5_path,target_size=(320,240))\n",
    "\n",
    "#For show image\n",
    "plt.imshow(test_image)\n",
    "test_image = img_to_array(test_image)\n",
    "test_image = np.expand_dims(test_image,axis=0)\n",
    "\n",
    "# Result array\n",
    "result = model.predict(test_image)\n",
    "\n",
    "#Mapping result array with the main name list\n",
    "i=0\n",
    "if(result<=0.5):\n",
    "    print(\"With Peter\")\n",
    "else:\n",
    "    print(\"Without Peter\")"
   ]
  },
  {
   "cell_type": "code",
   "execution_count": null,
   "metadata": {},
   "outputs": [],
   "source": [
    "test_image = load_img(test_image6_path,target_size=(320,240))\n",
    "\n",
    "#For show image\n",
    "plt.imshow(test_image)\n",
    "test_image = img_to_array(test_image)\n",
    "test_image = np.expand_dims(test_image,axis=0)\n",
    "\n",
    "# Result array\n",
    "result = model.predict(test_image)\n",
    "\n",
    "#Mapping result array with the main name list\n",
    "i=0\n",
    "if(result<=0.5):\n",
    "    print(\"With Peter\")\n",
    "else:\n",
    "    print(\"Without Peter\")"
   ]
  },
  {
   "cell_type": "code",
   "execution_count": null,
   "metadata": {},
   "outputs": [],
   "source": [
    "model.save('resnet50_Initial.h5')"
   ]
  },
  {
   "cell_type": "code",
   "execution_count": null,
   "metadata": {},
   "outputs": [],
   "source": [
    "tp = 0 \n",
    "fp = 0 \n",
    "tn = 0 \n",
    "fn = 0  \n",
    "\n",
    "for images, labels in test_datagen:\n",
    "    preds = model.predict(images)\n",
    "    # threshold=0.5\n",
    "    binary_preds = (preds > 0.5).astype(int).flatten()\n",
    "    labels = labels.numpy().flatten()\n",
    "    \n",
    "    for pred, true_label in zip(binary_preds, labels):\n",
    "        if pred == 1 and true_label == 1:\n",
    "            tp += 1  # Correctly predicted 'With Peter'\n",
    "        elif pred == 1 and true_label == 0:\n",
    "            fp += 1  # Incorrectly predicted 'With Peter'\n",
    "        elif pred == 0 and true_label == 0:\n",
    "            tn += 1  # Correctly predicted 'Without Peter'\n",
    "        elif pred == 0 and true_label == 1:\n",
    "            fn += 1  # Incorrectly predicted 'Without Peter'\n",
    "\n",
    "# Print results\n",
    "print(f\"True Positives (TP): {tp}\")\n",
    "print(f\"False Positives (FP): {fp}\")\n",
    "print(f\"True Negatives (TN): {tn}\")\n",
    "print(f\"False Negatives (FN): {fn}\")\n"
   ]
  },
  {
   "cell_type": "code",
   "execution_count": null,
   "metadata": {},
   "outputs": [],
   "source": []
  }
 ],
 "metadata": {
  "colab": {
   "provenance": []
  },
  "kernelspec": {
   "display_name": "CSE151A",
   "language": "python",
   "name": "python3"
  },
  "language_info": {
   "codemirror_mode": {
    "name": "ipython",
    "version": 3
   },
   "file_extension": ".py",
   "mimetype": "text/x-python",
   "name": "python",
   "nbconvert_exporter": "python",
   "pygments_lexer": "ipython3",
   "version": "3.8.20"
  }
 },
 "nbformat": 4,
 "nbformat_minor": 4
}
