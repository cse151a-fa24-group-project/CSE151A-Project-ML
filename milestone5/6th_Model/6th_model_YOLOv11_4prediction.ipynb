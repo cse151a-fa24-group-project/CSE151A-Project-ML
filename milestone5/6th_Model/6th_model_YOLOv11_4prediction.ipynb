{
 "cells": [
  {
   "cell_type": "code",
   "execution_count": 1,
   "metadata": {},
   "outputs": [],
   "source": [
    "from ultralytics import YOLO"
   ]
  },
  {
   "cell_type": "code",
   "execution_count": null,
   "metadata": {},
   "outputs": [
    {
     "name": "stdout",
     "output_type": "stream",
     "text": [
      "\n",
      "image 1/1 /Users/jaewon/Documents/CSE151A/Milestone5/YOLO_models/model_test/S1E05_500.jpg: 480x640 1 Peter, 157.0ms\n",
      "Speed: 1.9ms preprocess, 157.0ms inference, 0.7ms postprocess per image at shape (1, 3, 480, 640)\n",
      "Results saved to \u001b[1mruns/detect/predict\u001b[0m\n",
      "\n",
      "image 1/1 /Users/jaewon/Documents/CSE151A/Milestone5/YOLO_models/model_test/S1E05_1000.jpg: 480x640 1 Peter, 130.2ms\n",
      "Speed: 1.4ms preprocess, 130.2ms inference, 0.4ms postprocess per image at shape (1, 3, 480, 640)\n",
      "Results saved to \u001b[1mruns/detect/predict\u001b[0m\n",
      "\n",
      "image 1/1 /Users/jaewon/Documents/CSE151A/Milestone5/YOLO_models/model_test/S1E05_1500.jpg: 480x640 (no detections), 128.8ms\n",
      "Speed: 1.2ms preprocess, 128.8ms inference, 0.2ms postprocess per image at shape (1, 3, 480, 640)\n",
      "Results saved to \u001b[1mruns/detect/predict\u001b[0m\n",
      "\n",
      "image 1/1 /Users/jaewon/Documents/CSE151A/Milestone5/YOLO_models/model_test/S1E05_2000.jpg: 480x640 (no detections), 126.3ms\n",
      "Speed: 1.1ms preprocess, 126.3ms inference, 0.2ms postprocess per image at shape (1, 3, 480, 640)\n",
      "Results saved to \u001b[1mruns/detect/predict\u001b[0m\n"
     ]
    },
    {
     "data": {
      "text/plain": [
       "[ultralytics.engine.results.Results object with attributes:\n",
       " \n",
       " boxes: ultralytics.engine.results.Boxes object\n",
       " keypoints: None\n",
       " masks: None\n",
       " names: {0: 'Peter'}\n",
       " obb: None\n",
       " orig_img: array([[[132, 153, 168],\n",
       "         [134, 155, 170],\n",
       "         [135, 156, 171],\n",
       "         ...,\n",
       "         [142, 156, 168],\n",
       "         [146, 156, 166],\n",
       "         [146, 156, 166]],\n",
       " \n",
       "        [[139, 160, 175],\n",
       "         [140, 161, 176],\n",
       "         [141, 162, 177],\n",
       "         ...,\n",
       "         [147, 161, 173],\n",
       "         [151, 161, 171],\n",
       "         [151, 161, 171]],\n",
       " \n",
       "        [[143, 164, 179],\n",
       "         [145, 166, 181],\n",
       "         [146, 167, 182],\n",
       "         ...,\n",
       "         [151, 165, 177],\n",
       "         [155, 165, 175],\n",
       "         [155, 165, 175]],\n",
       " \n",
       "        ...,\n",
       " \n",
       "        [[ 88,  99, 113],\n",
       "         [ 86,  99, 113],\n",
       "         [ 84, 100, 113],\n",
       "         ...,\n",
       "         [ 91, 100, 109],\n",
       "         [ 91, 100, 109],\n",
       "         [ 91, 100, 109]],\n",
       " \n",
       "        [[ 88,  99, 113],\n",
       "         [ 86,  99, 113],\n",
       "         [ 84, 100, 113],\n",
       "         ...,\n",
       "         [ 91, 100, 109],\n",
       "         [ 91, 100, 109],\n",
       "         [ 91, 100, 109]],\n",
       " \n",
       "        [[ 88,  99, 113],\n",
       "         [ 86,  99, 113],\n",
       "         [ 84, 100, 113],\n",
       "         ...,\n",
       "         [ 91, 100, 109],\n",
       "         [ 91, 100, 109],\n",
       "         [ 91, 100, 109]]], dtype=uint8)\n",
       " orig_shape: (1080, 1444)\n",
       " path: '/Users/jaewon/Documents/CSE151A/Milestone5/YOLO_models/model_test/S1E05_2000.jpg'\n",
       " probs: None\n",
       " save_dir: 'runs/detect/predict'\n",
       " speed: {'preprocess': 1.1267662048339844, 'inference': 126.27196311950684, 'postprocess': 0.23508071899414062}]"
      ]
     },
     "execution_count": 5,
     "metadata": {},
     "output_type": "execute_result"
    },
    {
     "ename": "",
     "evalue": "",
     "output_type": "error",
     "traceback": [
      "\u001b[1;31mThe Kernel crashed while executing code in the current cell or a previous cell. \n",
      "\u001b[1;31mPlease review the code in the cell(s) to identify a possible cause of the failure. \n",
      "\u001b[1;31mClick <a href='https://aka.ms/vscodeJupyterKernelCrash'>here</a> for more info. \n",
      "\u001b[1;31mView Jupyter <a href='command:jupyter.viewOutput'>log</a> for further details."
     ]
    }
   ],
   "source": [
    "model = YOLO(\"cse151a_1.pt\")\n",
    "\n",
    "\n",
    "\n",
    "source1 = \"/Users/jaewon/Documents/CSE151A/Milestone5/YOLO_models/model_test/S1E05_500.jpg\"\n",
    "source2 = \"/Users/jaewon/Documents/CSE151A/Milestone5/YOLO_models/model_test/S1E05_1000.jpg\"\n",
    "source3 = \"/Users/jaewon/Documents/CSE151A/Milestone5/YOLO_models/model_test/S1E05_1500.jpg\"\n",
    "source4 = \"/Users/jaewon/Documents/CSE151A/Milestone5/YOLO_models/model_test/S1E05_2000.jpg\"\n",
    "\n",
    "model.predict(source = source1, save=True, conf=0.53)\n",
    "model.predict(source = source2, save=True, conf=0.53)\n",
    "model.predict(source = source3, save=True, conf=0.53)\n",
    "model.predict(source = source4, save=True, conf=0.53)"
   ]
  },
  {
   "cell_type": "code",
   "execution_count": null,
   "metadata": {},
   "outputs": [],
   "source": []
  }
 ],
 "metadata": {
  "kernelspec": {
   "display_name": "CSE151A",
   "language": "python",
   "name": "python3"
  },
  "language_info": {
   "codemirror_mode": {
    "name": "ipython",
    "version": 3
   },
   "file_extension": ".py",
   "mimetype": "text/x-python",
   "name": "python",
   "nbconvert_exporter": "python",
   "pygments_lexer": "ipython3",
   "version": "3.8.20"
  }
 },
 "nbformat": 4,
 "nbformat_minor": 2
}
